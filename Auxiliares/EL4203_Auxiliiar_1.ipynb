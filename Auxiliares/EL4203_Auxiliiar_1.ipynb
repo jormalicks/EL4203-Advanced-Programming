{
 "cells": [
  {
   "cell_type": "markdown",
   "metadata": {},
   "source": [
    "## P1"
   ]
  },
  {
   "cell_type": "code",
   "execution_count": 6,
   "metadata": {},
   "outputs": [
    {
     "data": {
      "text/plain": [
       "True"
      ]
     },
     "execution_count": 6,
     "metadata": {},
     "output_type": "execute_result"
    }
   ],
   "source": [
    "# Recursivo\n",
    "def potencia_4(n):\n",
    "    if n<1:\n",
    "        return False\n",
    "    if n==1:\n",
    "        return True\n",
    "    if n%4==0:\n",
    "        return potencia_4(n/4)\n",
    "    else:\n",
    "        return potencia_4(n/4)\n",
    "\n",
    "# Test\n",
    "potencia_4(64) # True"
   ]
  },
  {
   "cell_type": "code",
   "execution_count": 9,
   "metadata": {},
   "outputs": [
    {
     "data": {
      "text/plain": [
       "True"
      ]
     },
     "execution_count": 9,
     "metadata": {},
     "output_type": "execute_result"
    }
   ],
   "source": [
    "# Iterativo\n",
    "def potencia_4(n):\n",
    "    if n<1:\n",
    "        return False\n",
    "    if n==1:\n",
    "        return True\n",
    "    while n>1:\n",
    "        if n%4==0:\n",
    "            n=n/4\n",
    "        else:\n",
    "            return False\n",
    "    return True\n",
    "\n",
    "# Test\n",
    "potencia_4(4) # True"
   ]
  },
  {
   "cell_type": "markdown",
   "metadata": {},
   "source": [
    "## P2"
   ]
  },
  {
   "cell_type": "code",
   "execution_count": 15,
   "metadata": {},
   "outputs": [
    {
     "data": {
      "text/plain": [
       "True"
      ]
     },
     "execution_count": 15,
     "metadata": {},
     "output_type": "execute_result"
    }
   ],
   "source": [
    "import math\n",
    "def es_primo(n):\n",
    "    if n == 1:\n",
    "        return False\n",
    "    # Acotar espacio de búsqueda\n",
    "    for i in range(2,int(math.sqrt(n))+1):\n",
    "        if n%i==0:\n",
    "            return False\n",
    "    return True\n",
    "\n",
    "# Test\n",
    "es_primo(10000019) # True"
   ]
  },
  {
   "cell_type": "markdown",
   "metadata": {},
   "source": [
    "## P3"
   ]
  },
  {
   "cell_type": "code",
   "execution_count": 3,
   "metadata": {},
   "outputs": [],
   "source": [
    "class Pokemon:\n",
    "    def __init__(self, nombre, max_hp):\n",
    "        self.nombre = nombre \n",
    "        self.hp = max_hp # Inicializar con vida máxima\n",
    "    \n",
    "    def set_hp(self, hp):\n",
    "        self.hp = min(hp, self.max_hp) # No permitir que la vida sea mayor a la máxima\n",
    "        self.hp = max(hp, 0)\n",
    "\n",
    "    def atacar(self, oponente):\n",
    "        oponente.set_hp(oponente.hp - 10)\n",
    "    \n",
    "    def fuera_de_combate(self):\n",
    "        if self.hp == 0:\n",
    "            return True\n",
    "        return False"
   ]
  },
  {
   "cell_type": "code",
   "execution_count": 4,
   "metadata": {},
   "outputs": [
    {
     "ename": "AttributeError",
     "evalue": "'Pokemon' object has no attribute 'max_hp'",
     "output_type": "error",
     "traceback": [
      "\u001b[1;31m---------------------------------------------------------------------------\u001b[0m",
      "\u001b[1;31mAttributeError\u001b[0m                            Traceback (most recent call last)",
      "Cell \u001b[1;32mIn[4], line 6\u001b[0m\n\u001b[0;32m      3\u001b[0m pokemon2 \u001b[38;5;241m=\u001b[39m Pokemon(\u001b[38;5;124m\"\u001b[39m\u001b[38;5;124mCharmander\u001b[39m\u001b[38;5;124m\"\u001b[39m, \u001b[38;5;241m100\u001b[39m)\n\u001b[0;32m      5\u001b[0m \u001b[38;5;28;01mwhile\u001b[39;00m \u001b[38;5;129;01mnot\u001b[39;00m (pokemon1\u001b[38;5;241m.\u001b[39mfuera_de_combate()) \u001b[38;5;129;01mand\u001b[39;00m \u001b[38;5;129;01mnot\u001b[39;00m (pokemon2\u001b[38;5;241m.\u001b[39mfuera_de_combate()):\n\u001b[1;32m----> 6\u001b[0m     \u001b[43mpokemon1\u001b[49m\u001b[38;5;241;43m.\u001b[39;49m\u001b[43matacar\u001b[49m\u001b[43m(\u001b[49m\u001b[43mpokemon2\u001b[49m\u001b[43m)\u001b[49m\n\u001b[0;32m      7\u001b[0m     pokemon2\u001b[38;5;241m.\u001b[39matacar(pokemon1)\n\u001b[0;32m      8\u001b[0m     \u001b[38;5;28;01mif\u001b[39;00m pokemon1\u001b[38;5;241m.\u001b[39mfuera_de_combate():\n",
      "Cell \u001b[1;32mIn[3], line 11\u001b[0m, in \u001b[0;36mPokemon.atacar\u001b[1;34m(self, oponente)\u001b[0m\n\u001b[0;32m     10\u001b[0m \u001b[38;5;28;01mdef\u001b[39;00m \u001b[38;5;21matacar\u001b[39m(\u001b[38;5;28mself\u001b[39m, oponente):\n\u001b[1;32m---> 11\u001b[0m     \u001b[43moponente\u001b[49m\u001b[38;5;241;43m.\u001b[39;49m\u001b[43mset_hp\u001b[49m\u001b[43m(\u001b[49m\u001b[43moponente\u001b[49m\u001b[38;5;241;43m.\u001b[39;49m\u001b[43mhp\u001b[49m\u001b[43m \u001b[49m\u001b[38;5;241;43m-\u001b[39;49m\u001b[43m \u001b[49m\u001b[38;5;241;43m10\u001b[39;49m\u001b[43m)\u001b[49m\n",
      "Cell \u001b[1;32mIn[3], line 7\u001b[0m, in \u001b[0;36mPokemon.set_hp\u001b[1;34m(self, hp)\u001b[0m\n\u001b[0;32m      6\u001b[0m \u001b[38;5;28;01mdef\u001b[39;00m \u001b[38;5;21mset_hp\u001b[39m(\u001b[38;5;28mself\u001b[39m, hp):\n\u001b[1;32m----> 7\u001b[0m     \u001b[38;5;28mself\u001b[39m\u001b[38;5;241m.\u001b[39mhp \u001b[38;5;241m=\u001b[39m \u001b[38;5;28mmin\u001b[39m(hp, \u001b[38;5;28;43mself\u001b[39;49m\u001b[38;5;241;43m.\u001b[39;49m\u001b[43mmax_hp\u001b[49m) \u001b[38;5;66;03m# No permitir que la vida sea mayor a la máxima\u001b[39;00m\n\u001b[0;32m      8\u001b[0m     \u001b[38;5;28mself\u001b[39m\u001b[38;5;241m.\u001b[39mhp \u001b[38;5;241m=\u001b[39m \u001b[38;5;28mmax\u001b[39m(hp, \u001b[38;5;241m0\u001b[39m)\n",
      "\u001b[1;31mAttributeError\u001b[0m: 'Pokemon' object has no attribute 'max_hp'"
     ]
    }
   ],
   "source": [
    "# Batalla\n",
    "pokemon1 = Pokemon(\"Pikachu\", 100)\n",
    "pokemon2 = Pokemon(\"Charmander\", 100)\n",
    "\n",
    "while not (pokemon1.fuera_de_combate()) and not (pokemon2.fuera_de_combate()):\n",
    "    pokemon1.atacar(pokemon2)\n",
    "    pokemon2.atacar(pokemon1)\n",
    "    if pokemon1.fuera_de_combate():\n",
    "        print(\"Pokemon cayo\")\n",
    "        break"
   ]
  }
 ],
 "metadata": {
  "kernelspec": {
   "display_name": "Python 3",
   "language": "python",
   "name": "python3"
  },
  "language_info": {
   "codemirror_mode": {
    "name": "ipython",
    "version": 3
   },
   "file_extension": ".py",
   "mimetype": "text/x-python",
   "name": "python",
   "nbconvert_exporter": "python",
   "pygments_lexer": "ipython3",
   "version": "3.12.2"
  }
 },
 "nbformat": 4,
 "nbformat_minor": 2
}
