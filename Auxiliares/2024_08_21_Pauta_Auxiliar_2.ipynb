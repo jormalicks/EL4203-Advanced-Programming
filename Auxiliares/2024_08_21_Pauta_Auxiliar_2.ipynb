{
 "cells": [
  {
   "cell_type": "markdown",
   "metadata": {},
   "source": [
    "# Auxiliar 2: Iteración, recursividad y OOP\n",
    "## Auxiliar: Esteban Muñoz"
   ]
  },
  {
   "cell_type": "markdown",
   "metadata": {},
   "source": [
    "### P1. Potencia de 4\n",
    "Dado algún número $n \\in \\mathbb{Z}$, escriba un programa que retorne True si este número es una potencia de 4, o False en caso contrario. ¿Este problema se puede resolver de forma iterativa o recursiva?"
   ]
  },
  {
   "cell_type": "markdown",
   "metadata": {},
   "source": [
    "**Solución**\n",
    "\n",
    "Un número $n$ es potencia de 4 si es posible factorizarlo como $n = 4^m$, en donde $m \\in \\mathbb{N}$. Notar que no existe ningún número natural $m$ que permita obtener como resultado $4^m < 1$, de modo que si el input es un número menor a $1$ se sabe de inmediato que no es una potencia de $4$. Si $n = 1$ entonces se sabe que $n$ si es potencia de $4$, dado que $1 = 4^0$.\n",
    "\n",
    "Por otra parte, si $n > 1$, entonces se debe preguntar si $n$ es divisible por $4$. De no ser el caso, se sabe de inmediato que $n$ no es potencia de $4$ y el programa termina retornando `False`. Si efectivamente $n$ es divisible por $4$, entonces se debe realizar este mismo procedimiento sobre $n/4$, y así sucesivamente hasta que en algún momento el programa retorne `False` o la condición $n > 1$ deje de cumplirse.\n",
    "\n",
    "Este tipo de programas que necesitan comprobar la misma condición una y otra vez pueden ser tanto recursivos como iterativos. En este caso, para verificar que un número es divisible por $4$, se puede verificar si el resto de la división es igual a $0$."
   ]
  },
  {
   "cell_type": "markdown",
   "metadata": {},
   "source": [
    "Veamos primero la versión recursiva"
   ]
  },
  {
   "cell_type": "code",
   "execution_count": 34,
   "metadata": {},
   "outputs": [],
   "source": [
    "def potencia_4_recursiva(n: int) -> bool:\n",
    "    if n < 1:\n",
    "        return False\n",
    "    \n",
    "    if n == 1:\n",
    "        return True\n",
    "    \n",
    "    if n % 4 != 0:\n",
    "        return False\n",
    "    \n",
    "    return potencia_4_recursiva(n//4)"
   ]
  },
  {
   "cell_type": "markdown",
   "metadata": {},
   "source": [
    "Ahora usando la versión iterativa"
   ]
  },
  {
   "cell_type": "code",
   "execution_count": 46,
   "metadata": {},
   "outputs": [],
   "source": [
    "def potencia_4_iterativa(n: int) -> bool:\n",
    "    if n < 1:\n",
    "        return False\n",
    "    \n",
    "    while n > 1:\n",
    "        if n % 4 != 0:\n",
    "            return False\n",
    "        n //= 4\n",
    "\n",
    "    return True"
   ]
  },
  {
   "cell_type": "markdown",
   "metadata": {},
   "source": [
    "Algo interesante a notar es que efectivamente se pudo escribir el mismo programa en una versión iterativa y en otra recursiva. Esto se debe a que la última instrucción de la versión recursiva es la recursión, a lo que se llama *recursión a la cola*. Cuando esta condición se cumple, se puede asegurar que siempre se puede reemplazar la recursión por una iteración. Por lo tanto, si usted piensa en la resolución de un problema con recursión, también puede convertir esta solución en una versión con iteraciones."
   ]
  },
  {
   "cell_type": "markdown",
   "metadata": {},
   "source": [
    "### P2. Números primos\n",
    "\n",
    "Dado cualquier número $n \\in \\mathbb{N}$, escriba un programa que retorne `True` si dicho número es primo, o `False` en caso contrario.\n",
    "\n",
    "Una vez que ha desarrollado una versión de su código, intente realizar algunas modificaciones para hacerlo más rápido."
   ]
  },
  {
   "cell_type": "markdown",
   "metadata": {},
   "source": [
    "**Solución**\n",
    "\n",
    "Un número es primo sólo si es divisible por 2 números distintos: el mismo número y $1$. Una forma sencilla de comprobar si un número es primo es intentar dividirlo por todos los números naturales entre $n$ y $2$. Si alguno de esos números efectivamente puede dividir a $n$, entonces se sabe que no es primo. Implementemos esta solución."
   ]
  },
  {
   "cell_type": "code",
   "execution_count": 76,
   "metadata": {},
   "outputs": [],
   "source": [
    "def es_primo(n: int) -> bool:\n",
    "    if n == 0 or n == 1:\n",
    "        return False\n",
    "    \n",
    "    for k in range(2, n):\n",
    "        if n % k == 0:\n",
    "            return False\n",
    "        \n",
    "    return True"
   ]
  },
  {
   "cell_type": "markdown",
   "metadata": {},
   "source": [
    "Esta solución simple de entender cae dentro de los métodos conocidos como *Fuerza Bruta*. Recibe este nombre pues para obtener una respuesta, necesita probar absolutamente todas las alternativas posibles. Si bien es cierto no existe problema alguno para intentar este tipo de solución en un caso como este, si quisiéramos ejecutar este código para encontrar todos los números primos en el orden de los millones notaríamos que ya no es tan corto el tiempo que debemos esperar para obtener una respuesta.\n",
    "\n",
    "Es por el motivo anterior que, en muchas aplicaciones, es muy importante optimizar nuestro código para que tenga una mejor eficiencia, y por consiguiente tome una menor cantidad de tiempo ejecutarlo de forma recurrente."
   ]
  },
  {
   "cell_type": "markdown",
   "metadata": {},
   "source": [
    "**Solución 2**\n",
    "\n",
    "Una optimización que puede reducir mucho el tiempo de cómputo, es notar que no es necesario comprobar si $n$ es divisible por todos los naturales menores a sí mismo. Por ejemplo, si $n = 458$, es imposible que $457$ sea un divisor de $n$, pues $457 \\cdot 1 = 457$, y $457 \\cdot 2 = 914$, siendo este último resultado mucho mayor a $n$. El mismo ejemplo se puede entregar para $456, 455, \\dots$\n",
    "\n",
    "¿A partir de qué numero vale la pena comenzar a revisar la condición de divisibilidad? La respuesta es $\\lceil \\sqrt{n} \\rceil$, el número natural más cercano a raiz de $n$. Esto porque, si se divide $n$ por $2$, entonces se obtendrán 2 factores de $n$: $2$ y el divisor más grande. Luego se puede intentar lo mismo con $3, 4, \\dots$ hasta eventualmente llegar a $\\sqrt{n}$. En la medida que se aumenta uno de los dividores, el otro disminuye, llegando hasta el punto en que ambos son iguales si $\\sqrt{n}$ es divisor. Como consecuencia, si se encuentra algún divisor mayor a $\\sqrt{n}$, el par asociado será un número menor a $n$, pero este ya se abrá encontrado previamente, de modo que en realidad se estaría chequeando 2 veces la misma condición.\n",
    "\n",
    "Sabiendo lo anterior, al modificar la solución entregada por el cambio propuesto se obtiene la siguiente versión:"
   ]
  },
  {
   "cell_type": "code",
   "execution_count": 1,
   "metadata": {},
   "outputs": [],
   "source": [
    "import math\n",
    "\n",
    "def es_primo_sqrt(n: int) -> bool:\n",
    "    if n == 0 or n == 1:\n",
    "        return False\n",
    "    \n",
    "    for k in range(2, int(math.sqrt(n)) + 1):\n",
    "        if n % k == 0:\n",
    "            return False\n",
    "    \n",
    "    return True\n"
   ]
  },
  {
   "cell_type": "markdown",
   "metadata": {},
   "source": [
    "**Bonus: Solución 3**\n",
    "\n",
    "Como se mencionó en auxiliar, la solución anterior es mucho más rápida si se quiere verificar si un número es primo. Sin embargo, es posible que se quiera conocer todos los números primos de un determinado rango. Una alternativa simple para lograr este cometido es iterar sobre todos los naturales en un intervalo, y utilizar alguna de las funciones previamente escritas. El problema con esta opción es que no es realmente escalable a medida que aumenta la cantidad de números que se quieren revisar.\n",
    "\n",
    "Una solución más eficiente se puede encontrar usando la *Criba de Eratóstenes*. Este algoritmo permite encontrar todos los números primos en un rango determinado. Funciona de la siguiente manera:\n",
    "\n",
    "Se utiliza una lista de números naturales, partiendo por el 2 y terminando en $n$. Se chequea el primer número, y si este no ha sido marcado como no primo, entonces es un número primo. Como 2 no ha sido marcado, se sabe que es un número primo. A continuación, todos los números múltiplos de 2 se marcan como no primos, pues ya se ha encontrado un divisor para todos ellos. Una vez realizado lo anterior, se chequea si el siguiente número en la lista está marcado como no primo. Si efectivamente es un no primo, entonces se continua con el siguiente número, y se repite este proceso hasta encontrar nuevamente un número primo. Llegado a este punto se repite el procedimiento hecho con el número 2: se marcan todos sus múltiplos como no primos, y se continúa la búsqueda hasta una condición de término. Similar a la solución anterior, una condición de término eficiente consiste en detener la ejecución del programa cuando se alcanza el valor $\\sqrt{n}$."
   ]
  },
  {
   "cell_type": "code",
   "execution_count": 140,
   "metadata": {},
   "outputs": [],
   "source": [
    "def criba_de_eratostenes(n: int) -> list[bool]:\n",
    "    primos = [True for _ in range(n+1)]\n",
    "    primos[0] = False\n",
    "    primos[1] = False\n",
    "    p = 2\n",
    "    while p**2 < n:\n",
    "        # Si el número no ha sido marcado como no primo, entonces es primo\n",
    "        if primos[p]:\n",
    "            # Se marcan todos los múltiplos de p como no primos\n",
    "            for k in range(p**2, n+1, p):\n",
    "                primos[k] = False\n",
    "        p += 1\n",
    "\n",
    "    return primos"
   ]
  },
  {
   "cell_type": "markdown",
   "metadata": {},
   "source": [
    "Puede hacer el intento de encontrar todos los primos en algún intervalo que usted estime conveniente usando las 3 funciones, y verificar qué tan distinto es el tiempo de ejecución en cada caso."
   ]
  },
  {
   "cell_type": "markdown",
   "metadata": {},
   "source": [
    "### P3. Bienvenido al mundo Pokemon\n",
    "\n",
    "La idea de esta pregunta es familiarizarse con la construcción de clases. Para ello, se le pide crear una clase llamada `Pokemon`, que debe cumplir con las siguientes condiciones:\n",
    "\n",
    "- Todo Pokemon debe tener un nombre\n",
    "- Todo Pokemon debe tener un máximo de puntos de vida (_HP_ en el juego)\n",
    "- A un Pokemon se le pueden cambiar sus _HP_\n",
    "- Los _HP_ de un Pokemon no pueden ser menor a 0 ni mayor al máximo\n",
    "- Todo Pokemon debe poder atacar. Considere que un ataque disminuye los _HP_ del rival en 10 _HP_\n",
    "- Se debe poder verificar si un Pokemon sigue en combate o no"
   ]
  },
  {
   "cell_type": "markdown",
   "metadata": {},
   "source": [
    "**Solución**\n",
    "\n",
    "Como ya se ha visto en cátedras, una clase es la definición de un tipo de dato, que describe a un conjunto de elementos (u objetos) que comparten propiedades y funcionalidad. Formalmente, las propiedades que comparten estos objetos se llaman atributos, y su funcionalidad se describe por medio de métodos.\n",
    "\n",
    "Para declarar clases en Python necesitamos usar la _keyword_ `class`, seguida del nombre que queremos darle a la clase. Luego, se definen una serie de métodos para esta clase, los que permiten manejar los atributos así como también permitir la interacción de los objetos de esta clase con otros objetos.\n",
    "\n",
    "Uno de los métodos más importantes en la mayoría de las clases es el **constructor**. El constructor es el que inicializa todos los atributos que deben compartir los objetos de esta clase, y que posteriormente pueden ser utilizados por otros métodos, o incluso otros objetos en el funcionamiento de nuestros programas. En Python, el constructor de una clase es el método `__init__`, y como pueden ver, este método cuenta con 2 _underscores_ al inicio y al final de su nombre, por este motivo, se le llama un método _double underscore_, o simplemente _dunder_. Los _dunder_ definen como una clase interactua con diferentes elementos del lenguaje de programación, y en la medida que avancemos en el curso veremos algunos de ellos.\n",
    "\n",
    "Volviendo al problema, debemos notar que algunos de los requisitos pueden cumplirse usando atributos, y otros usando métodos. Salvo problemas relativamente sencillos, no existe una única forma de definir una clase, por lo que el conjunto de atributos y métodos que definan depende de cada uno."
   ]
  },
  {
   "cell_type": "code",
   "execution_count": 3,
   "metadata": {},
   "outputs": [],
   "source": [
    "class Pokemon:\n",
    "    def __init__(self, nombre: str, max_hp: int) -> None:\n",
    "        self.nombre = nombre\n",
    "        self.max_hp = max_hp\n",
    "        self.hp = max_hp\n",
    "\n",
    "    def set_hp(self, hp: int) -> None:\n",
    "        self.hp = min(self.max_hp, hp)\n",
    "        self.hp = max(0, hp)\n",
    "    \n",
    "    def atacar(self, oponente) -> None:\n",
    "        oponente.set_hp(oponente.hp - 10)\n",
    "\n",
    "    def fuera_de_combate(self) -> bool:\n",
    "        return self.hp == 0"
   ]
  },
  {
   "cell_type": "markdown",
   "metadata": {},
   "source": [
    "Esta clase cumple con todas las restricciones impuestas*. Para probar que efectivamente funcione, se puede programar una batalla Pokemon bastante simple"
   ]
  },
  {
   "cell_type": "code",
   "execution_count": 7,
   "metadata": {},
   "outputs": [
    {
     "name": "stdout",
     "output_type": "stream",
     "text": [
      "Bulbasaur atacó a Charmander\n",
      "A Charmander le quedan 33 HP\n",
      "Charmander atacó a Bulbasaur\n",
      "A Bulbasaur le quedan 12 HP\n",
      "Bulbasaur atacó a Charmander\n",
      "A Charmander le quedan 23 HP\n",
      "Charmander atacó a Bulbasaur\n",
      "A Bulbasaur le quedan 2 HP\n",
      "Bulbasaur atacó a Charmander\n",
      "A Charmander le quedan 13 HP\n",
      "Charmander atacó a Bulbasaur\n",
      "Bulbasaur ha quedado fuera de combate\n"
     ]
    }
   ],
   "source": [
    "# Batalla pokemon\n",
    "bulbasaur = Pokemon(\"Bulbasaur\", 22)\n",
    "charmander = Pokemon(\"Charmander\", 43)\n",
    "\n",
    "while not bulbasaur.fuera_de_combate() and not charmander.fuera_de_combate():\n",
    "    bulbasaur.atacar(charmander)\n",
    "    print(\"Bulbasaur atacó a Charmander\")\n",
    "    if charmander.fuera_de_combate():\n",
    "        print(\"Charmander ha quedado fuera de combate\")\n",
    "        break\n",
    "\n",
    "    print(f\"A Charmander le quedan {charmander.hp} HP\")\n",
    "    charmander.atacar(bulbasaur)\n",
    "    print(\"Charmander atacó a Bulbasaur\")\n",
    "    if bulbasaur.fuera_de_combate():\n",
    "        print(\"Bulbasaur ha quedado fuera de combate\")\n",
    "        break\n",
    "\n",
    "    print(f\"A Bulbasaur le quedan {bulbasaur.hp} HP\")"
   ]
  },
  {
   "cell_type": "markdown",
   "metadata": {},
   "source": [
    "\\* La condición que impone que los _HP_ de un Pokemon se encuentren entre 0 y el máximo no necesariamente se cumple. ¿Puede encontrar donde podría no cumplirse esta regla? ¿Qué puede hacer para evitar que esto ocurra? _Hint:_ Revise los pincipales tipos de errores que existen en Python.\n",
    "\n",
    "Lo anterior es sólo una muestra de lo que se puede hacer con una clase. Si gusta, puede agregar los métodos y atributos que prefiera a esta clase, como por ejemplo: una cantidad determinada de puntos de poder (o __PP__ en el juego), que el ataque permita daño variable, distintos tipos de ataque, permitir que los Pokemon tengan tipos, permitir que un ataque falle, o que el oponente lo esquive, etc."
   ]
  },
  {
   "cell_type": "markdown",
   "metadata": {},
   "source": [
    "### Bonus"
   ]
  },
  {
   "cell_type": "markdown",
   "metadata": {},
   "source": [
    "#### _¿Qué son todos esos tipos de datos al definir funciones?_"
   ]
  },
  {
   "cell_type": "markdown",
   "metadata": {},
   "source": [
    "Habrá notado que al momento de definir funciones, en cada declaración se han escrito tipos de datos, como por ejemplo\n",
    "\n",
    "```python\n",
    "def potencia_4_recursiva(n: int) -> bool:\n",
    "    ...\n",
    "```\n",
    "\n",
    "Estas anotaciones se llaman _type hinting_, e indican el tipo de datos que recibe una función, y también el tipo de dato que retorna (este último es el que aparece después de `->`). Si bien es cierto Python es un lenguaje de tipado dinámico, esto es, que una variable puede cambiar no sólo su valor sino también el tipo de este valor, es por lo general una buena costumbre diseñar sus funciones y métodos de una manera que tenga sentido recibir sólo un número acotado de tipos de datos. En el ejemplo recién expuesto, no tendría mucho sentido asignarle a `n` un valor de tipo string, o booleano, o un diccionario. Por lo mismo, se facilita la interpretación de cada argumento de la función al explicar qué tipo de dato se espera que se use como input; de la misma forma, es buena idea explicitar qué tipo de dato retorna la función. Es importante notar que un _type hint_ **NO FUERZA** a que una variable tenga ese tipo, por lo que usted podría simplemente no respetarlo. Esto último, salvo casos muy particulares, es muy alta extremadamente no sugerido.\n",
    "\n",
    "También habrá podido notar que algunas funciones no retornan nada. Veamos uno de los métodos de la clase `Pokemon`\n",
    "\n",
    "```python\n",
    "def set_hp(self, hp: int) -> None:\n",
    "    ...\n",
    "```\n",
    "\n",
    "En este caso se explicita que la función no retorna nada al usar `None`. `None` es un valor de tipo `NoneType`, y es, de hecho, el único valor que posee este tipo (lo que convierte a `Nonetype` en un _singleton_: una clase que posee sólo una instancia). En terminos simples, `None` es un valor que indica la ausencia de valor, o \"no hay nada\", por lo que tiene sentido utilizarlo para anotar que una función \"no retorna nada\".\n",
    "\n",
    "¿Por qué no se anotó el tipo de `oponente` en el método `atacar`? Pues porque su tipo es exactamente el mismo que se está definiendo en la clase. Puede intentar anotar `oponente` con el tipo `Pokemon` y notar que Python arrojará un error. Esto no quiere decir que sea imposible anotar tipos en casos como este, pero podría haber sido más confuso el código si nunca ha visto algo por el estilo. Existen principalmente 2 formas de lograr anotar el tipo, y para mi gusto la más sencilla es agregar la siguiente línea al inicio de su archivo `.ipynb` o `.py`\n",
    "\n",
    "```python\n",
    "from __future__ import annotations\n",
    "```\n",
    "\n",
    "Y ahora si, cuando defina su método, puede anotar el argumento del método\n",
    "\n",
    "```python\n",
    "def atacar(self, oponente: Pokemon) -> None:\n",
    "    ...\n",
    "```\n",
    "\n",
    "*NOTA*: Puede que en futuras versiones de Python no sea necesario hacer el `import` al inicio del archivo y se pueda anotar un tipo dentro de sí mismo por defecto.\n",
    "\n",
    "Finalmente, los inputs y outputs de una función no son lo único que se puede anotar. En realidad, puede anotar cualquier variable en su código\n",
    "\n",
    "```python\n",
    "num: int | float = 3.14\n",
    "nombre: str = \"Tulio\"\n",
    "...\n",
    "```\n",
    "\n",
    "En donde `|` funciona como un `or`: la variable puede ser de tipo `int` o `float`."
   ]
  },
  {
   "cell_type": "markdown",
   "metadata": {},
   "source": [
    "#### _List comprehensions: for loops en una línea_"
   ]
  },
  {
   "cell_type": "markdown",
   "metadata": {},
   "source": [
    "¿Notaron que en la criba de Eratóstenes se usó esta línea?\n",
    "\n",
    "```python\n",
    "primos = [True for _ in range(n+1)]\n",
    "```\n",
    "\n",
    "Esto se llama _list comprehension_, y permite crear una lista usando un for loop, todo en una sola línea. Su sintaxis por lo general es\n",
    "\n",
    "```python\n",
    "[expresión for nombre_variable in iterable]\n",
    "```\n",
    "\n",
    "Esto último es equivalente a\n",
    "\n",
    "```python\n",
    "lista = []\n",
    "for nombre_variable in iterable:\n",
    "    lista.append(expresión)\n",
    "```\n",
    "\n",
    "En el caso concreto de la criba de Eratóstenes, el equivalente es\n",
    "\n",
    "```python\n",
    "primos = []\n",
    "for _ in range(n+1):\n",
    "    primos.append(True)\n",
    "```\n",
    "\n",
    "Y que tiene como resultado una lista llamada `primos` que en su interior tiene $n+1$ elementos, todos con el valor `True`. En este caso en particular, ya que `nombre_variable` no es utilizada en `expresión` sencillamente se utilizó `_` como variable, lo que suele ser una convención en Python para una variable temporal o descartable. Si en su lugar quisiera guardar el cuadrado de cada número, tendría lo siguiente\n",
    "\n",
    "```python\n",
    "cuadrados = [k**2 for k in range(n)]\n",
    "```\n",
    "\n",
    "Por lo general siempre se prefiere usar list comprehensions si es posible, pues es mucho más eficiente que realizar un for loop manualmente. Puede haber casos en que una list comprehension sea difícil de entender, empeorando la legibilidad de su código, por lo que en esta situación es muy posible que sea mejor realizar el for loop de forma manual."
   ]
  }
 ],
 "metadata": {
  "kernelspec": {
   "display_name": "sci-env",
   "language": "python",
   "name": "python3"
  },
  "language_info": {
   "codemirror_mode": {
    "name": "ipython",
    "version": 3
   },
   "file_extension": ".py",
   "mimetype": "text/x-python",
   "name": "python",
   "nbconvert_exporter": "python",
   "pygments_lexer": "ipython3",
   "version": "3.12.4"
  }
 },
 "nbformat": 4,
 "nbformat_minor": 2
}
