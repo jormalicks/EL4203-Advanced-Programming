{
 "cells": [
  {
   "cell_type": "markdown",
   "metadata": {},
   "source": [
    "## P1"
   ]
  },
  {
   "cell_type": "code",
   "execution_count": 6,
   "metadata": {},
   "outputs": [
    {
     "data": {
      "text/plain": [
       "True"
      ]
     },
     "execution_count": 6,
     "metadata": {},
     "output_type": "execute_result"
    }
   ],
   "source": [
    "# Recursivo\n",
    "def potencia_4(n):\n",
    "    if n<1:\n",
    "        return False\n",
    "    if n==1:\n",
    "        return True\n",
    "    if n%4==0:\n",
    "        return potencia_4(n/4)\n",
    "    else:\n",
    "        return potencia_4(n/4)\n",
    "\n",
    "# Test\n",
    "potencia_4(64) # True"
   ]
  },
  {
   "cell_type": "code",
   "execution_count": 9,
   "metadata": {},
   "outputs": [
    {
     "data": {
      "text/plain": [
       "True"
      ]
     },
     "execution_count": 9,
     "metadata": {},
     "output_type": "execute_result"
    }
   ],
   "source": [
    "# Iterativo\n",
    "def potencia_4(n):\n",
    "    if n<1:\n",
    "        return False\n",
    "    if n==1:\n",
    "        return True\n",
    "    while n>1:\n",
    "        if n%4==0:\n",
    "            n=n/4\n",
    "        else:\n",
    "            return False\n",
    "    return True\n",
    "\n",
    "# Test\n",
    "potencia_4(4) # True"
   ]
  },
  {
   "cell_type": "markdown",
   "metadata": {},
   "source": [
    "## P2"
   ]
  },
  {
   "cell_type": "code",
   "execution_count": 15,
   "metadata": {},
   "outputs": [
    {
     "data": {
      "text/plain": [
       "True"
      ]
     },
     "execution_count": 15,
     "metadata": {},
     "output_type": "execute_result"
    }
   ],
   "source": [
    "import math\n",
    "def es_primo(n):\n",
    "    if n == 1:\n",
    "        return False\n",
    "    # Acotar espacio de búsqueda\n",
    "    for i in range(2,int(math.sqrt(n))+1):\n",
    "        if n%i==0:\n",
    "            return False\n",
    "    return True\n",
    "\n",
    "# Test\n",
    "es_primo(10000019) # True"
   ]
  },
  {
   "cell_type": "markdown",
   "metadata": {},
   "source": [
    "## P3"
   ]
  },
  {
   "cell_type": "code",
   "execution_count": 16,
   "metadata": {},
   "outputs": [],
   "source": [
    "class Pokemon:\n",
    "    def __init__(self, nombre, max_hp, ):\n",
    "        self.nombre = nombre \n",
    "        self.hp = max_hp # Inicializar con vida máxima\n",
    "    \n",
    "    def set_hp(self, hp):\n",
    "        hp = min(hp, self.max_hp) # No permitir que la vida sea mayor a la máxima\n",
    "        hp = max(hp, 0)\n",
    "\n",
    "    def atacar(self, oponente):\n",
    "        oponente.set_hp(oponente.hp - 10)\n",
    "    \n",
    "    def fuera_de_combate(self):\n",
    "        if self.hp == 0:\n",
    "            return True\n",
    "        return False"
   ]
  },
  {
   "cell_type": "code",
   "execution_count": null,
   "metadata": {},
   "outputs": [],
   "source": [
    "# Batalla\n",
    "pokemon1 = Pokemon(\"Pikachu\", 100)\n",
    "pokemon2 = Pokemon(\"Charmander\", 100)\n",
    "\n",
    "while not (pokemon1.fuera_de_combate()) and not (pokemon2.fuera_de_combate()):\n",
    "    pokemon1.atacar(pokemon2)\n",
    "    pokemon2.atacar(pokemon1)\n",
    "    if pokemon1.fuera_de_combate():\n",
    "        print(\"Pokemon cayo\")\n",
    "\n",
    "\n"
   ]
  }
 ],
 "metadata": {
  "kernelspec": {
   "display_name": "Python 3",
   "language": "python",
   "name": "python3"
  },
  "language_info": {
   "codemirror_mode": {
    "name": "ipython",
    "version": 3
   },
   "file_extension": ".py",
   "mimetype": "text/x-python",
   "name": "python",
   "nbconvert_exporter": "python",
   "pygments_lexer": "ipython3",
   "version": "3.12.2"
  }
 },
 "nbformat": 4,
 "nbformat_minor": 2
}
